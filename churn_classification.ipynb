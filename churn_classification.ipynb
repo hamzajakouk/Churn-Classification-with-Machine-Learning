{
  "nbformat": 4,
  "nbformat_minor": 0,
  "metadata": {
    "colab": {
      "provenance": []
    },
    "kernelspec": {
      "name": "python3",
      "display_name": "Python 3"
    },
    "language_info": {
      "name": "python"
    }
  },
  "cells": [
    {
      "cell_type": "markdown",
      "source": [
        "**4. Evaluation Metrics for Classification**\n",
        ">In the previous session a model for predicting churn. How do we know if it;s good?\n",
        "\n"
      ],
      "metadata": {
        "id": "dhAl9WOVa1NR"
      }
    },
    {
      "cell_type": "markdown",
      "source": [
        "\n"
      ],
      "metadata": {
        "id": "fJGv8pe8l8t3"
      }
    },
    {
      "cell_type": "code",
      "execution_count": null,
      "metadata": {
        "id": "kt4kBCUtawjg"
      },
      "outputs": [],
      "source": [
        "import pandas as pd\n",
        "import numpy as np\n",
        "\n",
        "import matplotlib.pyplot as plt"
      ]
    },
    {
      "cell_type": "code",
      "source": [
        "from sklearn.model_selection import train_test_split\n",
        "from sklearn.feature_extraction import DictVectorizer\n",
        "from sklearn.linear_model import LogisticRegression"
      ],
      "metadata": {
        "id": "FU6qXMYenScI"
      },
      "execution_count": null,
      "outputs": []
    },
    {
      "cell_type": "markdown",
      "source": [
        "**Importing the data**\n",
        "\n",
        "> as you can see hear i import the data from google drive but in your case you can get only from you local file\n",
        "\n"
      ],
      "metadata": {
        "id": "SgZKLp0PEOWz"
      }
    },
    {
      "cell_type": "code",
      "source": [
        "from google.colab import drive\n",
        "drive.mount('/content/drive/')"
      ],
      "metadata": {
        "colab": {
          "base_uri": "https://localhost:8080/"
        },
        "id": "fQNtNo0SmaQj",
        "outputId": "ac7dc9ca-1af1-454a-d1e7-5e154d97e1e9"
      },
      "execution_count": null,
      "outputs": [
        {
          "output_type": "stream",
          "name": "stdout",
          "text": [
            "Drive already mounted at /content/drive/; to attempt to forcibly remount, call drive.mount(\"/content/drive/\", force_remount=True).\n"
          ]
        }
      ]
    },
    {
      "cell_type": "code",
      "source": [
        "df = pd.read_csv('/content/drive/MyDrive/WA_Fn-UseC_-Telco-Customer-Churn.csv')\n",
        "\n",
        "df.columns = df.columns.str.lower().str.replace(' ', '_')\n",
        "\n",
        "categorical_columns = list(df.dtypes[df.dtypes == 'object'].index)\n",
        "\n",
        "for c in categorical_columns:\n",
        "    df[c] = df[c].str.lower().str.replace(' ', '_')\n",
        "\n",
        "df.totalcharges = pd.to_numeric(df.totalcharges, errors='coerce')\n",
        "df.totalcharges = df.totalcharges.fillna(0)\n",
        "\n",
        "df.churn = (df.churn == 'yes').astype(int)"
      ],
      "metadata": {
        "id": "C6yA5ANumLKW"
      },
      "execution_count": null,
      "outputs": []
    },
    {
      "cell_type": "code",
      "source": [
        "df_full_train, df_test = train_test_split(df, test_size=0.2, random_state=1)\n",
        "df_train, df_val = train_test_split(df_full_train, test_size=0.25, random_state=1)\n",
        "\n",
        "df_train = df_train.reset_index(drop=True)\n",
        "df_val = df_val.reset_index(drop=True)\n",
        "df_test = df_test.reset_index(drop=True)\n",
        "\n",
        "y_train = df_train.churn.values\n",
        "y_val = df_val.churn.values\n",
        "y_test = df_test.churn.values\n",
        "\n",
        "del df_train['churn']\n",
        "del df_val['churn']\n",
        "del df_test['churn']"
      ],
      "metadata": {
        "id": "OQIEHdGwnGcX"
      },
      "execution_count": null,
      "outputs": []
    },
    {
      "cell_type": "code",
      "source": [
        "numerical = ['tenure', 'monthlycharges', 'totalcharges']\n",
        "\n",
        "categorical = [\n",
        "    'gender',\n",
        "    'seniorcitizen',\n",
        "    'partner',\n",
        "    'dependents',\n",
        "    'phoneservice',\n",
        "    'multiplelines',\n",
        "    'internetservice',\n",
        "    'onlinesecurity',\n",
        "    'onlinebackup',\n",
        "    'deviceprotection',\n",
        "    'techsupport',\n",
        "    'streamingtv',\n",
        "    'streamingmovies',\n",
        "    'contract',\n",
        "    'paperlessbilling',\n",
        "    'paymentmethod',\n",
        "]"
      ],
      "metadata": {
        "id": "1gxEWo2znbk8"
      },
      "execution_count": null,
      "outputs": []
    },
    {
      "cell_type": "code",
      "source": [
        "dv = DictVectorizer(sparse=False)\n",
        "\n",
        "train_dict = df_train[categorical + numerical].to_dict(orient='records')\n",
        "X_train = dv.fit_transform(train_dict)\n",
        "\n",
        "model = LogisticRegression()\n",
        "model.fit(X_train, y_train)"
      ],
      "metadata": {
        "colab": {
          "base_uri": "https://localhost:8080/"
        },
        "id": "VsJetu0GnWGP",
        "outputId": "2a75e2c3-4bca-45d6-b951-900842fa2eeb"
      },
      "execution_count": null,
      "outputs": [
        {
          "output_type": "execute_result",
          "data": {
            "text/plain": [
              "LogisticRegression()"
            ]
          },
          "metadata": {},
          "execution_count": 8
        }
      ]
    },
    {
      "cell_type": "code",
      "source": [
        "val_dict = df_val[categorical + numerical].to_dict(orient='records')\n",
        "X_val = dv.transform(val_dict)\n",
        "\n",
        "y_pred = model.predict_proba(X_val)[:, 1]\n",
        "churn_decision = (y_pred >= 0.5)\n",
        "(y_val == churn_decision).mean()"
      ],
      "metadata": {
        "colab": {
          "base_uri": "https://localhost:8080/"
        },
        "id": "unNBVa19nhci",
        "outputId": "a199cd24-631f-4779-f69a-378f6f81a296"
      },
      "execution_count": null,
      "outputs": [
        {
          "output_type": "execute_result",
          "data": {
            "text/plain": [
              "0.8034066713981547"
            ]
          },
          "metadata": {},
          "execution_count": 9
        }
      ]
    },
    {
      "cell_type": "markdown",
      "source": [
        "**4.2 Accuracy and dummy model**\n",
        "\n",
        "*   Evaluate the model on different thresholds\n",
        "*   Check the accuracy of dummy baselines\n",
        "\n"
      ],
      "metadata": {
        "id": "ghPAzsU_nmzn"
      }
    },
    {
      "cell_type": "code",
      "source": [
        "len(y_val)"
      ],
      "metadata": {
        "colab": {
          "base_uri": "https://localhost:8080/"
        },
        "id": "SbVKzlq-nl-F",
        "outputId": "0ad882ac-20b4-4222-81b2-9446fe9e39cc"
      },
      "execution_count": null,
      "outputs": [
        {
          "output_type": "execute_result",
          "data": {
            "text/plain": [
              "1409"
            ]
          },
          "metadata": {},
          "execution_count": 10
        }
      ]
    },
    {
      "cell_type": "code",
      "source": [
        "(y_val == churn_decision).mean()"
      ],
      "metadata": {
        "colab": {
          "base_uri": "https://localhost:8080/"
        },
        "id": "YbZ6Gh4Qn5AT",
        "outputId": "aa881fca-b818-4349-9532-2ccc24fc1b31"
      },
      "execution_count": null,
      "outputs": [
        {
          "output_type": "execute_result",
          "data": {
            "text/plain": [
              "0.8034066713981547"
            ]
          },
          "metadata": {},
          "execution_count": 11
        }
      ]
    },
    {
      "cell_type": "code",
      "source": [
        "thresholds = np.linspace(0 , 1 , 21)\n",
        "thresholds"
      ],
      "metadata": {
        "colab": {
          "base_uri": "https://localhost:8080/"
        },
        "id": "0EDbR6KWoab3",
        "outputId": "11c035bb-59e6-4e77-a181-642f19684c73"
      },
      "execution_count": null,
      "outputs": [
        {
          "output_type": "execute_result",
          "data": {
            "text/plain": [
              "array([0.  , 0.05, 0.1 , 0.15, 0.2 , 0.25, 0.3 , 0.35, 0.4 , 0.45, 0.5 ,\n",
              "       0.55, 0.6 , 0.65, 0.7 , 0.75, 0.8 , 0.85, 0.9 , 0.95, 1.  ])"
            ]
          },
          "metadata": {},
          "execution_count": 12
        }
      ]
    },
    {
      "cell_type": "code",
      "source": [
        "list = {}\n",
        "for i in thresholds:\n",
        "  churn_decision = (y_pred >= i)\n",
        "  result = (churn_decision == y_val).mean()\n",
        "  list[i] = result\n",
        "\n",
        "items = sorted(list.items())\n",
        "keys_str = [str(key) for key, value in items]\n",
        "values = [value for key, value in items]\n",
        "\n",
        "plt.plot(keys_str, values)\n",
        "plt.show()\n",
        "\n"
      ],
      "metadata": {
        "colab": {
          "base_uri": "https://localhost:8080/",
          "height": 265
        },
        "id": "0XbflTGxo45r",
        "outputId": "08049faf-b5c7-4368-d825-5772d69ea3d0"
      },
      "execution_count": null,
      "outputs": [
        {
          "output_type": "display_data",
          "data": {
            "text/plain": [
              "<Figure size 432x288 with 1 Axes>"
            ],
            "image/png": "[encoded data removed]"
          },
          "metadata": {
            "needs_background": "light"
          }
        }
      ]
    },
    {
      "cell_type": "code",
      "source": [
        "from sklearn.metrics import accuracy_score"
      ],
      "metadata": {
        "id": "4np5ZzxF0q54"
      },
      "execution_count": null,
      "outputs": []
    },
    {
      "cell_type": "code",
      "source": [
        "accuracy_score(y_val , y_pred >= 0.5)"
      ],
      "metadata": {
        "colab": {
          "base_uri": "https://localhost:8080/"
        },
        "id": "dpuwriH609AI",
        "outputId": "fbc679e3-f99c-4371-80d2-77bece3b3238"
      },
      "execution_count": null,
      "outputs": [
        {
          "output_type": "execute_result",
          "data": {
            "text/plain": [
              "0.8034066713981547"
            ]
          },
          "metadata": {},
          "execution_count": 15
        }
      ]
    },
    {
      "cell_type": "markdown",
      "source": [
        "**4.3 Confusion Table**\n",
        "\n",
        "*   Different types of error and correct decisions\n",
        "*   Arranging them in a table\n",
        "\n"
      ],
      "metadata": {
        "id": "j2Hp3ItT1dTb"
      }
    },
    {
      "cell_type": "code",
      "source": [
        "actual_positive = (y_val == 1)\n",
        "actual_negative = (y_val == 0)"
      ],
      "metadata": {
        "id": "r97rjNgs1RWb"
      },
      "execution_count": null,
      "outputs": []
    },
    {
      "cell_type": "code",
      "source": [
        "predicted_positive = (y_pred >=0.5)\n",
        "predicted_negative = (y_pred <= 0.5)"
      ],
      "metadata": {
        "id": "Y7xy-lJI5PTB"
      },
      "execution_count": null,
      "outputs": []
    },
    {
      "cell_type": "code",
      "source": [
        "TP = (predicted_positive & actual_positive).sum()\n",
        "FP = (predicted_positive & actual_negative).sum()\n",
        "TP.sum()"
      ],
      "metadata": {
        "colab": {
          "base_uri": "https://localhost:8080/"
        },
        "id": "4TOJ3G9w5cGg",
        "outputId": "a34cd0a6-70e4-4eff-bc69-3c2bcfb79eba"
      },
      "execution_count": null,
      "outputs": [
        {
          "output_type": "execute_result",
          "data": {
            "text/plain": [
              "210"
            ]
          },
          "metadata": {},
          "execution_count": 18
        }
      ]
    },
    {
      "cell_type": "code",
      "source": [
        "TN = (predicted_negative & actual_negative).sum()\n",
        "FN = (predicted_negative & actual_positive).sum()\n",
        "TN.sum()"
      ],
      "metadata": {
        "colab": {
          "base_uri": "https://localhost:8080/"
        },
        "id": "qjQ4WDO956Oi",
        "outputId": "95890fb7-9eed-4bab-ebe8-5f78fc34d3d1"
      },
      "execution_count": null,
      "outputs": [
        {
          "output_type": "execute_result",
          "data": {
            "text/plain": [
              "922"
            ]
          },
          "metadata": {},
          "execution_count": 19
        }
      ]
    },
    {
      "cell_type": "code",
      "source": [
        "confusion_matrix = np.array([[TN , FP],[FN , TP]])\n",
        "confusion_matrix / confusion_matrix.sum()"
      ],
      "metadata": {
        "colab": {
          "base_uri": "https://localhost:8080/"
        },
        "id": "0Mvrh3Mt65E6",
        "outputId": "08b0cffb-c430-44d5-85f0-fd3abc4a7b22"
      },
      "execution_count": null,
      "outputs": [
        {
          "output_type": "execute_result",
          "data": {
            "text/plain": [
              "array([[0.6543648 , 0.07168204],\n",
              "       [0.12491128, 0.14904187]])"
            ]
          },
          "metadata": {},
          "execution_count": 20
        }
      ]
    },
    {
      "cell_type": "markdown",
      "source": [
        "**4.4 Precision and Recall**"
      ],
      "metadata": {
        "id": "rBgz9q3j7bj7"
      }
    },
    {
      "cell_type": "code",
      "source": [
        "precision =  TP / (TP + FP)\n",
        "recall = TP / (TP + FN)"
      ],
      "metadata": {
        "id": "Ss1klcIL7gKy"
      },
      "execution_count": null,
      "outputs": []
    },
    {
      "cell_type": "markdown",
      "source": [
        "**4.5 ROC CURVES**\n",
        "> TPR and FPR\n",
        "\n",
        "\n"
      ],
      "metadata": {
        "id": "ZuWxaKHvEyhZ"
      }
    },
    {
      "cell_type": "code",
      "source": [
        "TPR = TP / (TP + FN)\n",
        "FPR = FP / (FP + TN)\n",
        "TPR , FPR"
      ],
      "metadata": {
        "colab": {
          "base_uri": "https://localhost:8080/"
        },
        "id": "LruMIItmExOs",
        "outputId": "c7e0f4c0-9f8c-416c-899f-ec9878f60058"
      },
      "execution_count": null,
      "outputs": [
        {
          "output_type": "execute_result",
          "data": {
            "text/plain": [
              "(0.5440414507772021, 0.09872922776148582)"
            ]
          },
          "metadata": {},
          "execution_count": 22
        }
      ]
    },
    {
      "cell_type": "markdown",
      "source": [
        "**Random model**"
      ],
      "metadata": {
        "id": "tkrR2YoOIgM-"
      }
    },
    {
      "cell_type": "code",
      "source": [
        "from sklearn.metrics import roc_curve\n",
        "fpr  , tpr , thresholds = roc_curve(y_val , y_pred)\n",
        "plt.figure(figsize=(4 , 4))\n",
        "plt.plot( fpr  ,tpr, label = 'model')\n",
        "plt.plot([0,1] , [0 , 1] , label = 'Random' , linestyle='--')\n",
        "plt.xlabel('FPR')\n",
        "plt.ylabel('TPR')\n",
        "plt.legend()\n"
      ],
      "metadata": {
        "colab": {
          "base_uri": "https://localhost:8080/",
          "height": 297
        },
        "id": "mBARJMN4HlYI",
        "outputId": "2c5b0ac3-3fe4-4b54-f2a9-a8367022f574"
      },
      "execution_count": null,
      "outputs": [
        {
          "output_type": "execute_result",
          "data": {
            "text/plain": [
              "<matplotlib.legend.Legend at 0x7f4c3707a160>"
            ]
          },
          "metadata": {},
          "execution_count": 23
        },
        {
          "output_type": "display_data",
          "data": {
            "text/plain": [
              "<Figure size 288x288 with 1 Axes>"
            ],
            "image/png": "[encoded data removed]"
          },
          "metadata": {
            "needs_background": "light"
          }
        }
      ]
    },
    {
      "cell_type": "code",
      "source": [
        "((y_pred >= 0.5) == y_val).mean()"
      ],
      "metadata": {
        "colab": {
          "base_uri": "https://localhost:8080/"
        },
        "id": "gkN2T21yQ_R8",
        "outputId": "e23790a9-e226-4343-9475-f9f8be5ea3b9"
      },
      "execution_count": null,
      "outputs": [
        {
          "output_type": "execute_result",
          "data": {
            "text/plain": [
              "0.8034066713981547"
            ]
          },
          "metadata": {},
          "execution_count": 24
        }
      ]
    },
    {
      "cell_type": "code",
      "source": [
        "from sklearn.metrics import auc"
      ],
      "metadata": {
        "id": "hhWoBluVReg2"
      },
      "execution_count": null,
      "outputs": []
    },
    {
      "cell_type": "code",
      "source": [
        "auc(fpr , tpr)"
      ],
      "metadata": {
        "colab": {
          "base_uri": "https://localhost:8080/"
        },
        "id": "zcL7GwwjSHF2",
        "outputId": "61ad9036-8ef8-4b31-d146-709c5ca8d77f"
      },
      "execution_count": null,
      "outputs": [
        {
          "output_type": "execute_result",
          "data": {
            "text/plain": [
              "0.8438530381535563"
            ]
          },
          "metadata": {},
          "execution_count": 26
        }
      ]
    },
    {
      "cell_type": "code",
      "source": [
        "from sklearn.metrics import roc_auc_score\n",
        "roc_auc_score(y_val , y_pred)"
      ],
      "metadata": {
        "colab": {
          "base_uri": "https://localhost:8080/"
        },
        "id": "Kh_UVsw5StNM",
        "outputId": "24138ad5-9028-42ed-e388-f52ea2d6749b"
      },
      "execution_count": null,
      "outputs": [
        {
          "output_type": "execute_result",
          "data": {
            "text/plain": [
              "0.8438530381535563"
            ]
          },
          "metadata": {},
          "execution_count": 27
        }
      ]
    },
    {
      "cell_type": "markdown",
      "source": [
        "**4.6 Cross Validation**\n",
        "\n",
        "*   Evaluating the same model on different subset of data\n",
        "*   Getting the average prediction and the spread within prediction\n",
        "\n"
      ],
      "metadata": {
        "id": "ZP4hgYfOOEjb"
      }
    },
    {
      "cell_type": "code",
      "source": [
        "def train(df , y , d):\n",
        "  dicts = df[categorical + numerical].to_dict(orient = 'records')\n",
        "  dv = DictVectorizer(sparse=False)\n",
        "  X_train = dv.fit_transform(dicts)\n",
        "  model = LogisticRegression(C = d)\n",
        "  model.fit(X_train , y)\n",
        "  return dv , model"
      ],
      "metadata": {
        "id": "Ui5gfkLsOATf"
      },
      "execution_count": null,
      "outputs": []
    },
    {
      "cell_type": "code",
      "source": [
        "dv , model = train(df_train , y_train ,0.001)"
      ],
      "metadata": {
        "colab": {
          "base_uri": "https://localhost:8080/"
        },
        "id": "zb_KrgscQY-8",
        "outputId": "96230efb-5a2e-4ca5-978e-d071ceee095f"
      },
      "execution_count": null,
      "outputs": [
        {
          "output_type": "stream",
          "name": "stderr",
          "text": [
            "/usr/local/lib/python3.8/dist-packages/sklearn/linear_model/_logistic.py:814: ConvergenceWarning: lbfgs failed to converge (status=1):\n",
            "STOP: TOTAL NO. of ITERATIONS REACHED LIMIT.\n",
            "\n",
            "Increase the number of iterations (max_iter) or scale the data as shown in:\n",
            "    https://scikit-learn.org/stable/modules/preprocessing.html\n",
            "Please also refer to the documentation for alternative solver options:\n",
            "    https://scikit-learn.org/stable/modules/linear_model.html#logistic-regression\n",
            "  n_iter_i = _check_optimize_result(\n"
          ]
        }
      ]
    },
    {
      "cell_type": "code",
      "source": [
        "def predict(df_train , dv , model):\n",
        "  dicts = df_train[categorical +numerical].to_dict(orient = 'records')\n",
        "  X = dv.transform(dicts)\n",
        "  y_pred = model.predict_proba(X)[:,1]\n",
        "  return y_pred"
      ],
      "metadata": {
        "id": "5-EaTZmPQgDQ"
      },
      "execution_count": null,
      "outputs": []
    },
    {
      "cell_type": "code",
      "source": [
        "y_pred = predict(df_val , dv , model)"
      ],
      "metadata": {
        "id": "30aQp5m0RUAX"
      },
      "execution_count": null,
      "outputs": []
    },
    {
      "cell_type": "code",
      "source": [
        "from sklearn.model_selection import KFold\n",
        "kfold = KFold(n_splits=5 , shuffle = True , random_state = 1)"
      ],
      "metadata": {
        "id": "lEGOTw6xR0Iy"
      },
      "execution_count": null,
      "outputs": []
    },
    {
      "cell_type": "code",
      "source": [
        "\n",
        "for train_idx , val_idx in kfold.split(df_full_train):\n",
        "      df_train = df_full_train.iloc[train_idx]\n",
        "      df_val = df_full_train.iloc[val_idx]\n",
        "      y_train = df_train.churn.values\n",
        "      y_val = df_val.churn.values\n",
        "      dv , model = train(df_train , y_train , d = 0.01)\n",
        "      y_pred = predict(df_val , dv , model)\n",
        "      auc = roc_auc_score(y_val , y_pred)\n",
        "      score.append(auc)\n",
        "    "
      ],
      "metadata": {
        "colab": {
          "base_uri": "https://localhost:8080/"
        },
        "id": "mAzz8EgfSTZ4",
        "outputId": "ae2e4d99-0804-4586-8a36-c44a5de0fdba"
      },
      "execution_count": null,
      "outputs": [
        {
          "output_type": "stream",
          "name": "stderr",
          "text": [
            "/usr/local/lib/python3.8/dist-packages/sklearn/linear_model/_logistic.py:814: ConvergenceWarning: lbfgs failed to converge (status=1):\n",
            "STOP: TOTAL NO. of ITERATIONS REACHED LIMIT.\n",
            "\n",
            "Increase the number of iterations (max_iter) or scale the data as shown in:\n",
            "    https://scikit-learn.org/stable/modules/preprocessing.html\n",
            "Please also refer to the documentation for alternative solver options:\n",
            "    https://scikit-learn.org/stable/modules/linear_model.html#logistic-regression\n",
            "  n_iter_i = _check_optimize_result(\n",
            "/usr/local/lib/python3.8/dist-packages/sklearn/linear_model/_logistic.py:814: ConvergenceWarning: lbfgs failed to converge (status=1):\n",
            "STOP: TOTAL NO. of ITERATIONS REACHED LIMIT.\n",
            "\n",
            "Increase the number of iterations (max_iter) or scale the data as shown in:\n",
            "    https://scikit-learn.org/stable/modules/preprocessing.html\n",
            "Please also refer to the documentation for alternative solver options:\n",
            "    https://scikit-learn.org/stable/modules/linear_model.html#logistic-regression\n",
            "  n_iter_i = _check_optimize_result(\n"
          ]
        }
      ]
    },
    {
      "cell_type": "code",
      "source": [
        "dv , model = train(df_full_train , df_full_train.churn.values , d = 1.0)\n",
        "y_pred = predict(df_test , dv , model)\n",
        "auc = roc_auc_score(y_test , y_pred)\n",
        "auc"
      ],
      "metadata": {
        "colab": {
          "base_uri": "https://localhost:8080/"
        },
        "id": "6Tpxl4-bU73F",
        "outputId": "510d438d-62a3-4a2e-94de-c68eff556fcd"
      },
      "execution_count": null,
      "outputs": [
        {
          "output_type": "execute_result",
          "data": {
            "text/plain": [
              "0.8572386167896259"
            ]
          },
          "metadata": {},
          "execution_count": 82
        }
      ]
    },
    {
      "cell_type": "markdown",
      "source": [
        "**Save the model**"
      ],
      "metadata": {
        "id": "06lIsavGkgcx"
      }
    },
    {
      "cell_type": "code",
      "source": [
        "import pickle"
      ],
      "metadata": {
        "id": "Ua6CsUlyXv9F"
      },
      "execution_count": null,
      "outputs": []
    },
    {
      "cell_type": "code",
      "source": [
        "output_file = f'model_C.bin'\n",
        "output_file"
      ],
      "metadata": {
        "colab": {
          "base_uri": "https://localhost:8080/",
          "height": 36
        },
        "id": "Xl3ex7NikomJ",
        "outputId": "303d711e-8016-4ade-82c6-a8d923ae1d4c"
      },
      "execution_count": null,
      "outputs": [
        {
          "output_type": "execute_result",
          "data": {
            "text/plain": [
              "'model_C=10.bin'"
            ],
            "application/vnd.google.colaboratory.intrinsic+json": {
              "type": "string"
            }
          },
          "metadata": {},
          "execution_count": 84
        }
      ]
    },
    {
      "cell_type": "code",
      "source": [
        "f_out = open(output_file, 'wb')\n",
        "pickle.dump((dv , model), f_out)\n",
        "f_out.close()"
      ],
      "metadata": {
        "id": "lqs93oUvlBpj"
      },
      "execution_count": null,
      "outputs": []
    },
    {
      "cell_type": "code",
      "source": [
        "with open(output_file, 'wb') as f_out:\n",
        "  pickle.dump((dv, model) , f_out)"
      ],
      "metadata": {
        "id": "6A3Vpzd_lYJ3"
      },
      "execution_count": null,
      "outputs": []
    },
    {
      "cell_type": "markdown",
      "source": [
        "**load the model**"
      ],
      "metadata": {
        "id": "mVsppi6Wl6ak"
      }
    },
    {
      "cell_type": "code",
      "source": [
        "import pickle"
      ],
      "metadata": {
        "id": "g28rCacZlzgG"
      },
      "execution_count": null,
      "outputs": []
    },
    {
      "cell_type": "code",
      "source": [
        "model_file = 'model_C.bin'"
      ],
      "metadata": {
        "id": "bSMixJLqmZt0"
      },
      "execution_count": null,
      "outputs": []
    },
    {
      "cell_type": "code",
      "source": [
        "with open(model_file , 'rb') as f_in :\n",
        "  dv , model = pickle.load(f_in)"
      ],
      "metadata": {
        "id": "KvPAkFVmmHIc"
      },
      "execution_count": null,
      "outputs": []
    },
    {
      "cell_type": "code",
      "source": [
        "dv , model"
      ],
      "metadata": {
        "colab": {
          "base_uri": "https://localhost:8080/"
        },
        "id": "_PGYDwl7mxhu",
        "outputId": "a4da9a76-ab40-4f79-df26-ed047a74046d"
      },
      "execution_count": null,
      "outputs": [
        {
          "output_type": "execute_result",
          "data": {
            "text/plain": [
              "(DictVectorizer(sparse=False), LogisticRegression())"
            ]
          },
          "metadata": {},
          "execution_count": 92
        }
      ]
    }
  ]
}